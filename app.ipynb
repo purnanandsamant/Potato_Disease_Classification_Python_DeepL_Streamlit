{
 "cells": [
  {
   "cell_type": "code",
   "execution_count": 8,
   "id": "6280fa49-a13a-4468-83c0-b8b1ff6ff337",
   "metadata": {},
   "outputs": [],
   "source": [
    "import streamlit as st\n",
    "import tensorflow as tf\n",
    "import numpy as np\n",
    "from PIL import Image\n",
    "import io\n",
    "import numpy as np\n",
    "\n",
    "# Cache the model loading function\n",
    "@st.cache_resource\n",
    "# Load the saved model\n",
    "def load_model():\n",
    "    MODEL_PATH = r\"C:\\Users\\Maddy\\Documents\\Python\\Data Science\\Deep Learning\\Potato_Disease\\training\\model_v1.keras\"\n",
    "    model = tf.keras.models.load_model(MODEL_PATH)\n",
    "    return model\n",
    "\n",
    "# Load the model\n",
    "model = load_model()\n"
   ]
  },
  {
   "cell_type": "code",
   "execution_count": 10,
   "id": "8e6b7d84-8360-44f1-a8e8-8c7ecc4e3d73",
   "metadata": {},
   "outputs": [],
   "source": [
    "\n",
    "\n",
    "# Define class names\n",
    "class_names = ['Potato___Early_blight', 'Potato___Late_blight', 'Potato___healthy']\n",
    "\n",
    "IMAGE_SIZE = 256\n",
    "\n",
    "def predict(model, img):\n",
    "    img = img.resize((IMAGE_SIZE, IMAGE_SIZE))\n",
    "    img_array = tf.keras.preprocessing.image.img_to_array(img)\n",
    "    img_array = tf.expand_dims(img_array, 0)\n",
    "\n",
    "    predictions = model.predict(img_array)\n",
    "\n",
    "    predicted_class = class_names[np.argmax(predictions[0])]\n",
    "    confidence = round(100 * (np.max(predictions[0])), 2)\n",
    "    return predicted_class, confidence\n",
    "\n",
    "# Streamlit app\n",
    "st.title(\"Potato Disease Classification\")\n",
    "\n",
    "# Option to choose between uploading an image or taking a picture\n",
    "option = st.radio(\"Select input method:\", ('Upload Image', 'Take Picture'))\n",
    "\n",
    "if option == 'Upload Image':\n",
    "    uploaded_file = st.file_uploader(\"Choose an image...\", type=[\"jpg\", \"jpeg\", \"png\"])\n",
    "    if uploaded_file is not None:\n",
    "        image = Image.open(uploaded_file).convert('RGB')\n",
    "        st.image(image, caption='Uploaded Image', use_column_width=True)\n",
    "        \n",
    "        # Make prediction\n",
    "        predicted_class, confidence = predict(model, image)\n",
    "        \n",
    "        # Display results\n",
    "        st.write(f\"Predicted class: {predicted_class}\")\n",
    "        st.write(f\"Confidence: {confidence:.2f}\")\n",
    "\n",
    "elif option == 'Take Picture':\n",
    "    picture = st.camera_input(\"Take a picture\")\n",
    "    if picture is not None:\n",
    "        image = Image.open(picture).convert('RGB')\n",
    "        st.image(image, caption='Captured Image', use_column_width=True)\n",
    "        \n",
    "        # Make prediction\n",
    "        predicted_class, confidence = predict(model, image)\n",
    "        \n",
    "        # Display results\n",
    "        st.write(f\"Predicted class: {predicted_class}\")\n",
    "        st.write(f\"Confidence: {confidence:.2f}\")\n",
    "\n"
   ]
  },
  {
   "cell_type": "code",
   "execution_count": null,
   "id": "91235b83-9583-4731-bf1e-abf7935ec00e",
   "metadata": {},
   "outputs": [],
   "source": []
  }
 ],
 "metadata": {
  "kernelspec": {
   "display_name": "Python 3 (ipykernel)",
   "language": "python",
   "name": "python3"
  },
  "language_info": {
   "codemirror_mode": {
    "name": "ipython",
    "version": 3
   },
   "file_extension": ".py",
   "mimetype": "text/x-python",
   "name": "python",
   "nbconvert_exporter": "python",
   "pygments_lexer": "ipython3",
   "version": "3.12.4"
  }
 },
 "nbformat": 4,
 "nbformat_minor": 5
}
